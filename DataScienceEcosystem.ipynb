{
 "cells": [
  {
   "cell_type": "markdown",
   "id": "3daef3a7-49d8-49aa-bbb8-2889622458ce",
   "metadata": {},
   "source": [
    "# Data Science Tools and Ecosystem"
   ]
  },
  {
   "cell_type": "markdown",
   "id": "9e257310-cf26-4910-9f73-ff298c9bd91f",
   "metadata": {},
   "source": [
    "## Author \n",
    "Tom Adamson"
   ]
  },
  {
   "cell_type": "markdown",
   "id": "416d6ceb-2a55-44dc-8f9e-b7e97beec0b9",
   "metadata": {},
   "source": [
    "In this notebook, Data Science Tools and Ecosystem are summarized."
   ]
  },
  {
   "cell_type": "markdown",
   "id": "c6326f20-0624-4cac-8cd5-4268c13d717b",
   "metadata": {},
   "source": [
    "**Objectives:**\n",
    "- Listing popular languages for Data Science\n",
    "- Lisitng commonly used libraries in Data Science\n",
    "- Creating a table of development environments\n",
    "- Evaluating simple expressions"
   ]
  },
  {
   "cell_type": "markdown",
   "id": "99e80c89-eb09-42a9-bcbd-33026513c3dc",
   "metadata": {},
   "source": [
    "Some of the popular languages that Data Scientists use are:"
   ]
  },
  {
   "cell_type": "markdown",
   "id": "e17f70c8-0456-45ab-ab33-4378827c0465",
   "metadata": {},
   "source": [
    "1. Python\n",
    "2. Java\n",
    "3. C++\n",
    "4. C"
   ]
  },
  {
   "cell_type": "markdown",
   "id": "b209a814-4e21-4445-a5c2-d92843b02286",
   "metadata": {},
   "source": [
    "Some of the commonly used libraries used by Data Scientists include:"
   ]
  },
  {
   "cell_type": "markdown",
   "id": "6b4867f8-e3a2-4192-bc52-6b9a733f849b",
   "metadata": {},
   "source": [
    "1. NumPy\n",
    "2. Pandas\n",
    "3. SciPy\n",
    "4. Matplotlib"
   ]
  },
  {
   "cell_type": "markdown",
   "id": "baf79db6-9aef-4ecd-9954-3e813aeae0a3",
   "metadata": {},
   "source": [
    "|Data Science Tools|\n",
    "|------------------|\n",
    "|Jupyter Notebook|\n",
    "|RStudio|\n",
    "|Zeppelin Notebooks|"
   ]
  },
  {
   "cell_type": "markdown",
   "id": "f4a73177-82c0-4d21-9e6b-ba190bb9d780",
   "metadata": {},
   "source": [
    "### Below are a few examples of evaluating arithmetic expressions in Python. "
   ]
  },
  {
   "cell_type": "markdown",
   "id": "5ebfb3b3-f4db-490d-bf33-f46a7c79db1d",
   "metadata": {},
   "source": [
    "___This a simple arithmetic expression to multiply then add integers.___"
   ]
  },
  {
   "cell_type": "code",
   "execution_count": 1,
   "id": "8c0fd162-04b7-425c-bde2-49835c593983",
   "metadata": {},
   "outputs": [
    {
     "data": {
      "text/plain": [
       "17"
      ]
     },
     "execution_count": 1,
     "metadata": {},
     "output_type": "execute_result"
    }
   ],
   "source": [
    "(3*4) + 5"
   ]
  },
  {
   "cell_type": "markdown",
   "id": "52eb8856-b99c-4603-b1ac-e477966ccede",
   "metadata": {},
   "source": [
    "___This will convert 200 minutes to hours by dividing by 60.___"
   ]
  },
  {
   "cell_type": "code",
   "execution_count": 2,
   "id": "3382c94b-d84d-4ccc-8416-7349f6338459",
   "metadata": {},
   "outputs": [
    {
     "data": {
      "text/plain": [
       "3.3333333333333335"
      ]
     },
     "execution_count": 2,
     "metadata": {},
     "output_type": "execute_result"
    }
   ],
   "source": [
    "200/60"
   ]
  },
  {
   "cell_type": "code",
   "execution_count": null,
   "id": "b61c7d2f-25d0-4e18-97c7-f7af81294424",
   "metadata": {},
   "outputs": [],
   "source": []
  }
 ],
 "metadata": {
  "kernelspec": {
   "display_name": "Python 3 (ipykernel)",
   "language": "python",
   "name": "python3"
  },
  "language_info": {
   "codemirror_mode": {
    "name": "ipython",
    "version": 3
   },
   "file_extension": ".py",
   "mimetype": "text/x-python",
   "name": "python",
   "nbconvert_exporter": "python",
   "pygments_lexer": "ipython3",
   "version": "3.11.8"
  }
 },
 "nbformat": 4,
 "nbformat_minor": 5
}
